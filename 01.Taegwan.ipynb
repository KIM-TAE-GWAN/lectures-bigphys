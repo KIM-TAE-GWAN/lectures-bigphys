{
  "nbformat": 4,
  "nbformat_minor": 0,
  "metadata": {
    "colab": {
      "name": "Untitled1.ipynb",
      "provenance": [],
      "authorship_tag": "ABX9TyMJipLzHrYp4bD8NBoLdxM+",
      "include_colab_link": true
    },
    "kernelspec": {
      "name": "python3",
      "display_name": "Python 3"
    }
  },
  "cells": [
    {
      "cell_type": "markdown",
      "metadata": {
        "id": "view-in-github",
        "colab_type": "text"
      },
      "source": [
        "<a href=\"https://colab.research.google.com/github/KIM-TAE-GWAN/lectures-bigphys/blob/master/01.Taegwan.ipynb\" target=\"_parent\"><img src=\"https://colab.research.google.com/assets/colab-badge.svg\" alt=\"Open In Colab\"/></a>"
      ]
    },
    {
      "cell_type": "markdown",
      "metadata": {
        "id": "iqI3iajB-mQX",
        "colab_type": "text"
      },
      "source": [
        "#빅데이터 물리학 첫 번째 예제\n",
        "이 노트북은 빅데이터 물리학 예제입니다. 파이썬 기초를 다룹니다.\n",
        "\n"
      ]
    },
    {
      "cell_type": "code",
      "metadata": {
        "id": "oW69zRuR67CV",
        "colab_type": "code",
        "colab": {
          "base_uri": "https://localhost:8080/",
          "height": 53
        },
        "outputId": "9ead5c3c-4917-49bf-946a-035332ff16db"
      },
      "source": [
        "print(13.3124)\n",
        "print(\"Hello World\", 1+3, 2, \"A\")"
      ],
      "execution_count": 7,
      "outputs": [
        {
          "output_type": "stream",
          "text": [
            "13.3124\n",
            "Hello World 4 2 A\n"
          ],
          "name": "stdout"
        }
      ]
    },
    {
      "cell_type": "code",
      "metadata": {
        "id": "L3BK0nl8-8Dk",
        "colab_type": "code",
        "colab": {
          "base_uri": "https://localhost:8080/",
          "height": 35
        },
        "outputId": "b362f158-d646-48ad-960e-e189671359d3"
      },
      "source": [
        "2+9"
      ],
      "execution_count": 8,
      "outputs": [
        {
          "output_type": "execute_result",
          "data": {
            "text/plain": [
              "11"
            ]
          },
          "metadata": {
            "tags": []
          },
          "execution_count": 8
        }
      ]
    },
    {
      "cell_type": "code",
      "metadata": {
        "id": "Uh5y9Xje_Mz8",
        "colab_type": "code",
        "colab": {}
      },
      "source": [
        "20+13;"
      ],
      "execution_count": 9,
      "outputs": []
    },
    {
      "cell_type": "code",
      "metadata": {
        "id": "8eYoX5uH_O8L",
        "colab_type": "code",
        "colab": {
          "base_uri": "https://localhost:8080/",
          "height": 172
        },
        "outputId": "b0fb66cc-3b28-4e45-c2ef-5c3f803b3757"
      },
      "source": [
        "print(sin(1))"
      ],
      "execution_count": 10,
      "outputs": [
        {
          "output_type": "error",
          "ename": "NameError",
          "evalue": "ignored",
          "traceback": [
            "\u001b[0;31m---------------------------------------------------------------------------\u001b[0m",
            "\u001b[0;31mNameError\u001b[0m                                 Traceback (most recent call last)",
            "\u001b[0;32m<ipython-input-10-40b0bf07e290>\u001b[0m in \u001b[0;36m<module>\u001b[0;34m()\u001b[0m\n\u001b[0;32m----> 1\u001b[0;31m \u001b[0mprint\u001b[0m\u001b[0;34m(\u001b[0m\u001b[0msin\u001b[0m\u001b[0;34m(\u001b[0m\u001b[0;36m1\u001b[0m\u001b[0;34m)\u001b[0m\u001b[0;34m)\u001b[0m\u001b[0;34m\u001b[0m\u001b[0;34m\u001b[0m\u001b[0m\n\u001b[0m",
            "\u001b[0;31mNameError\u001b[0m: name 'sin' is not defined"
          ]
        }
      ]
    },
    {
      "cell_type": "code",
      "metadata": {
        "id": "cwLL7SJH_ccb",
        "colab_type": "code",
        "colab": {
          "base_uri": "https://localhost:8080/",
          "height": 35
        },
        "outputId": "06e066f7-8b55-4fd4-a9eb-c7a8e1d6fa13"
      },
      "source": [
        "from math import sin, cos, pi\n",
        "\n",
        "sin(3)"
      ],
      "execution_count": 12,
      "outputs": [
        {
          "output_type": "execute_result",
          "data": {
            "text/plain": [
              "0.1411200080598672"
            ]
          },
          "metadata": {
            "tags": []
          },
          "execution_count": 12
        }
      ]
    },
    {
      "cell_type": "code",
      "metadata": {
        "id": "OnadyaTW_r1L",
        "colab_type": "code",
        "colab": {
          "base_uri": "https://localhost:8080/",
          "height": 35
        },
        "outputId": "c1566c04-b918-48fa-ec59-400a33f81390"
      },
      "source": [
        "import math\n",
        "math.sin(3)"
      ],
      "execution_count": 13,
      "outputs": [
        {
          "output_type": "execute_result",
          "data": {
            "text/plain": [
              "0.1411200080598672"
            ]
          },
          "metadata": {
            "tags": []
          },
          "execution_count": 13
        }
      ]
    },
    {
      "cell_type": "code",
      "metadata": {
        "id": "LY3sFKCo_yT7",
        "colab_type": "code",
        "colab": {
          "base_uri": "https://localhost:8080/",
          "height": 53
        },
        "outputId": "d08a5233-0881-469c-989a-1d619e46aaa1"
      },
      "source": [
        "from math import sin, cos, tan, pi\n",
        "print( sin(pi), cos(pi))\n",
        "print(sin(pi)*sin(pi) + cos(1)*cos(1))"
      ],
      "execution_count": 14,
      "outputs": [
        {
          "output_type": "stream",
          "text": [
            "1.2246467991473532e-16 -1.0\n",
            "0.2919265817264289\n"
          ],
          "name": "stdout"
        }
      ]
    },
    {
      "cell_type": "code",
      "metadata": {
        "id": "s0ZN0WIIAZ9j",
        "colab_type": "code",
        "colab": {
          "base_uri": "https://localhost:8080/",
          "height": 190
        },
        "outputId": "32c0269d-d5cb-4669-a61a-c726a66ee635"
      },
      "source": [
        "if ___name___ == '__main__':\n",
        "  print(\"this is main\")"
      ],
      "execution_count": 16,
      "outputs": [
        {
          "output_type": "error",
          "ename": "NameError",
          "evalue": "ignored",
          "traceback": [
            "\u001b[0;31m---------------------------------------------------------------------------\u001b[0m",
            "\u001b[0;31mNameError\u001b[0m                                 Traceback (most recent call last)",
            "\u001b[0;32m<ipython-input-16-9bc60f53a655>\u001b[0m in \u001b[0;36m<module>\u001b[0;34m()\u001b[0m\n\u001b[0;32m----> 1\u001b[0;31m \u001b[0;32mif\u001b[0m \u001b[0m___name___\u001b[0m \u001b[0;34m==\u001b[0m \u001b[0;34m'__main__'\u001b[0m\u001b[0;34m:\u001b[0m\u001b[0;34m\u001b[0m\u001b[0;34m\u001b[0m\u001b[0m\n\u001b[0m\u001b[1;32m      2\u001b[0m   \u001b[0mprint\u001b[0m\u001b[0;34m(\u001b[0m\u001b[0;34m\"this is main\"\u001b[0m\u001b[0;34m)\u001b[0m\u001b[0;34m\u001b[0m\u001b[0;34m\u001b[0m\u001b[0m\n",
            "\u001b[0;31mNameError\u001b[0m: name '___name___' is not defined"
          ]
        }
      ]
    },
    {
      "cell_type": "code",
      "metadata": {
        "id": "evRqm6-BAwhT",
        "colab_type": "code",
        "colab": {
          "base_uri": "https://localhost:8080/",
          "height": 35
        },
        "outputId": "b503267d-a88d-499c-d153-1d9676da3da9"
      },
      "source": [
        "if __name__ == '__main__':\n",
        "  print(\"this is main\")"
      ],
      "execution_count": 17,
      "outputs": [
        {
          "output_type": "stream",
          "text": [
            "this is main\n"
          ],
          "name": "stdout"
        }
      ]
    },
    {
      "cell_type": "code",
      "metadata": {
        "id": "de52XCXdA-Si",
        "colab_type": "code",
        "colab": {
          "base_uri": "https://localhost:8080/",
          "height": 1000
        },
        "outputId": "58a47da3-c587-420c-c52e-5a8df902321c"
      },
      "source": [
        "help(math)"
      ],
      "execution_count": 18,
      "outputs": [
        {
          "output_type": "stream",
          "text": [
            "Help on built-in module math:\n",
            "\n",
            "NAME\n",
            "    math\n",
            "\n",
            "DESCRIPTION\n",
            "    This module is always available.  It provides access to the\n",
            "    mathematical functions defined by the C standard.\n",
            "\n",
            "FUNCTIONS\n",
            "    acos(...)\n",
            "        acos(x)\n",
            "        \n",
            "        Return the arc cosine (measured in radians) of x.\n",
            "    \n",
            "    acosh(...)\n",
            "        acosh(x)\n",
            "        \n",
            "        Return the inverse hyperbolic cosine of x.\n",
            "    \n",
            "    asin(...)\n",
            "        asin(x)\n",
            "        \n",
            "        Return the arc sine (measured in radians) of x.\n",
            "    \n",
            "    asinh(...)\n",
            "        asinh(x)\n",
            "        \n",
            "        Return the inverse hyperbolic sine of x.\n",
            "    \n",
            "    atan(...)\n",
            "        atan(x)\n",
            "        \n",
            "        Return the arc tangent (measured in radians) of x.\n",
            "    \n",
            "    atan2(...)\n",
            "        atan2(y, x)\n",
            "        \n",
            "        Return the arc tangent (measured in radians) of y/x.\n",
            "        Unlike atan(y/x), the signs of both x and y are considered.\n",
            "    \n",
            "    atanh(...)\n",
            "        atanh(x)\n",
            "        \n",
            "        Return the inverse hyperbolic tangent of x.\n",
            "    \n",
            "    ceil(...)\n",
            "        ceil(x)\n",
            "        \n",
            "        Return the ceiling of x as an Integral.\n",
            "        This is the smallest integer >= x.\n",
            "    \n",
            "    copysign(...)\n",
            "        copysign(x, y)\n",
            "        \n",
            "        Return a float with the magnitude (absolute value) of x but the sign \n",
            "        of y. On platforms that support signed zeros, copysign(1.0, -0.0) \n",
            "        returns -1.0.\n",
            "    \n",
            "    cos(...)\n",
            "        cos(x)\n",
            "        \n",
            "        Return the cosine of x (measured in radians).\n",
            "    \n",
            "    cosh(...)\n",
            "        cosh(x)\n",
            "        \n",
            "        Return the hyperbolic cosine of x.\n",
            "    \n",
            "    degrees(...)\n",
            "        degrees(x)\n",
            "        \n",
            "        Convert angle x from radians to degrees.\n",
            "    \n",
            "    erf(...)\n",
            "        erf(x)\n",
            "        \n",
            "        Error function at x.\n",
            "    \n",
            "    erfc(...)\n",
            "        erfc(x)\n",
            "        \n",
            "        Complementary error function at x.\n",
            "    \n",
            "    exp(...)\n",
            "        exp(x)\n",
            "        \n",
            "        Return e raised to the power of x.\n",
            "    \n",
            "    expm1(...)\n",
            "        expm1(x)\n",
            "        \n",
            "        Return exp(x)-1.\n",
            "        This function avoids the loss of precision involved in the direct evaluation of exp(x)-1 for small x.\n",
            "    \n",
            "    fabs(...)\n",
            "        fabs(x)\n",
            "        \n",
            "        Return the absolute value of the float x.\n",
            "    \n",
            "    factorial(...)\n",
            "        factorial(x) -> Integral\n",
            "        \n",
            "        Find x!. Raise a ValueError if x is negative or non-integral.\n",
            "    \n",
            "    floor(...)\n",
            "        floor(x)\n",
            "        \n",
            "        Return the floor of x as an Integral.\n",
            "        This is the largest integer <= x.\n",
            "    \n",
            "    fmod(...)\n",
            "        fmod(x, y)\n",
            "        \n",
            "        Return fmod(x, y), according to platform C.  x % y may differ.\n",
            "    \n",
            "    frexp(...)\n",
            "        frexp(x)\n",
            "        \n",
            "        Return the mantissa and exponent of x, as pair (m, e).\n",
            "        m is a float and e is an int, such that x = m * 2.**e.\n",
            "        If x is 0, m and e are both 0.  Else 0.5 <= abs(m) < 1.0.\n",
            "    \n",
            "    fsum(...)\n",
            "        fsum(iterable)\n",
            "        \n",
            "        Return an accurate floating point sum of values in the iterable.\n",
            "        Assumes IEEE-754 floating point arithmetic.\n",
            "    \n",
            "    gamma(...)\n",
            "        gamma(x)\n",
            "        \n",
            "        Gamma function at x.\n",
            "    \n",
            "    gcd(...)\n",
            "        gcd(x, y) -> int\n",
            "        greatest common divisor of x and y\n",
            "    \n",
            "    hypot(...)\n",
            "        hypot(x, y)\n",
            "        \n",
            "        Return the Euclidean distance, sqrt(x*x + y*y).\n",
            "    \n",
            "    isclose(...)\n",
            "        isclose(a, b, *, rel_tol=1e-09, abs_tol=0.0) -> bool\n",
            "        \n",
            "        Determine whether two floating point numbers are close in value.\n",
            "        \n",
            "           rel_tol\n",
            "               maximum difference for being considered \"close\", relative to the\n",
            "               magnitude of the input values\n",
            "            abs_tol\n",
            "               maximum difference for being considered \"close\", regardless of the\n",
            "               magnitude of the input values\n",
            "        \n",
            "        Return True if a is close in value to b, and False otherwise.\n",
            "        \n",
            "        For the values to be considered close, the difference between them\n",
            "        must be smaller than at least one of the tolerances.\n",
            "        \n",
            "        -inf, inf and NaN behave similarly to the IEEE 754 Standard.  That\n",
            "        is, NaN is not close to anything, even itself.  inf and -inf are\n",
            "        only close to themselves.\n",
            "    \n",
            "    isfinite(...)\n",
            "        isfinite(x) -> bool\n",
            "        \n",
            "        Return True if x is neither an infinity nor a NaN, and False otherwise.\n",
            "    \n",
            "    isinf(...)\n",
            "        isinf(x) -> bool\n",
            "        \n",
            "        Return True if x is a positive or negative infinity, and False otherwise.\n",
            "    \n",
            "    isnan(...)\n",
            "        isnan(x) -> bool\n",
            "        \n",
            "        Return True if x is a NaN (not a number), and False otherwise.\n",
            "    \n",
            "    ldexp(...)\n",
            "        ldexp(x, i)\n",
            "        \n",
            "        Return x * (2**i).\n",
            "    \n",
            "    lgamma(...)\n",
            "        lgamma(x)\n",
            "        \n",
            "        Natural logarithm of absolute value of Gamma function at x.\n",
            "    \n",
            "    log(...)\n",
            "        log(x[, base])\n",
            "        \n",
            "        Return the logarithm of x to the given base.\n",
            "        If the base not specified, returns the natural logarithm (base e) of x.\n",
            "    \n",
            "    log10(...)\n",
            "        log10(x)\n",
            "        \n",
            "        Return the base 10 logarithm of x.\n",
            "    \n",
            "    log1p(...)\n",
            "        log1p(x)\n",
            "        \n",
            "        Return the natural logarithm of 1+x (base e).\n",
            "        The result is computed in a way which is accurate for x near zero.\n",
            "    \n",
            "    log2(...)\n",
            "        log2(x)\n",
            "        \n",
            "        Return the base 2 logarithm of x.\n",
            "    \n",
            "    modf(...)\n",
            "        modf(x)\n",
            "        \n",
            "        Return the fractional and integer parts of x.  Both results carry the sign\n",
            "        of x and are floats.\n",
            "    \n",
            "    pow(...)\n",
            "        pow(x, y)\n",
            "        \n",
            "        Return x**y (x to the power of y).\n",
            "    \n",
            "    radians(...)\n",
            "        radians(x)\n",
            "        \n",
            "        Convert angle x from degrees to radians.\n",
            "    \n",
            "    sin(...)\n",
            "        sin(x)\n",
            "        \n",
            "        Return the sine of x (measured in radians).\n",
            "    \n",
            "    sinh(...)\n",
            "        sinh(x)\n",
            "        \n",
            "        Return the hyperbolic sine of x.\n",
            "    \n",
            "    sqrt(...)\n",
            "        sqrt(x)\n",
            "        \n",
            "        Return the square root of x.\n",
            "    \n",
            "    tan(...)\n",
            "        tan(x)\n",
            "        \n",
            "        Return the tangent of x (measured in radians).\n",
            "    \n",
            "    tanh(...)\n",
            "        tanh(x)\n",
            "        \n",
            "        Return the hyperbolic tangent of x.\n",
            "    \n",
            "    trunc(...)\n",
            "        trunc(x:Real) -> Integral\n",
            "        \n",
            "        Truncates x to the nearest Integral toward 0. Uses the __trunc__ magic method.\n",
            "\n",
            "DATA\n",
            "    e = 2.718281828459045\n",
            "    inf = inf\n",
            "    nan = nan\n",
            "    pi = 3.141592653589793\n",
            "    tau = 6.283185307179586\n",
            "\n",
            "FILE\n",
            "    (built-in)\n",
            "\n",
            "\n"
          ],
          "name": "stdout"
        }
      ]
    },
    {
      "cell_type": "code",
      "metadata": {
        "id": "bSdjQ13-BsKL",
        "colab_type": "code",
        "colab": {
          "base_uri": "https://localhost:8080/",
          "height": 172
        },
        "outputId": "63b2e7d4-747f-490f-f0b5-07e13060c3d0"
      },
      "source": [
        "help(atan2)"
      ],
      "execution_count": 19,
      "outputs": [
        {
          "output_type": "error",
          "ename": "NameError",
          "evalue": "ignored",
          "traceback": [
            "\u001b[0;31m---------------------------------------------------------------------------\u001b[0m",
            "\u001b[0;31mNameError\u001b[0m                                 Traceback (most recent call last)",
            "\u001b[0;32m<ipython-input-19-165c24b34588>\u001b[0m in \u001b[0;36m<module>\u001b[0;34m()\u001b[0m\n\u001b[0;32m----> 1\u001b[0;31m \u001b[0mhelp\u001b[0m\u001b[0;34m(\u001b[0m\u001b[0matan2\u001b[0m\u001b[0;34m)\u001b[0m\u001b[0;34m\u001b[0m\u001b[0;34m\u001b[0m\u001b[0m\n\u001b[0m",
            "\u001b[0;31mNameError\u001b[0m: name 'atan2' is not defined"
          ]
        }
      ]
    },
    {
      "cell_type": "code",
      "metadata": {
        "id": "1O7pMG6WCrIK",
        "colab_type": "code",
        "colab": {
          "base_uri": "https://localhost:8080/",
          "height": 172
        },
        "outputId": "d846799b-489c-46f7-b9c2-f8e39c20e855"
      },
      "source": [
        "help(atan2())"
      ],
      "execution_count": 20,
      "outputs": [
        {
          "output_type": "error",
          "ename": "NameError",
          "evalue": "ignored",
          "traceback": [
            "\u001b[0;31m---------------------------------------------------------------------------\u001b[0m",
            "\u001b[0;31mNameError\u001b[0m                                 Traceback (most recent call last)",
            "\u001b[0;32m<ipython-input-20-9aaebbd4a6fe>\u001b[0m in \u001b[0;36m<module>\u001b[0;34m()\u001b[0m\n\u001b[0;32m----> 1\u001b[0;31m \u001b[0mhelp\u001b[0m\u001b[0;34m(\u001b[0m\u001b[0matan2\u001b[0m\u001b[0;34m(\u001b[0m\u001b[0;34m)\u001b[0m\u001b[0;34m)\u001b[0m\u001b[0;34m\u001b[0m\u001b[0;34m\u001b[0m\u001b[0m\n\u001b[0m",
            "\u001b[0;31mNameError\u001b[0m: name 'atan2' is not defined"
          ]
        }
      ]
    },
    {
      "cell_type": "code",
      "metadata": {
        "id": "FuMZTSveCuCL",
        "colab_type": "code",
        "colab": {}
      },
      "source": [
        "from math import *"
      ],
      "execution_count": 21,
      "outputs": []
    },
    {
      "cell_type": "code",
      "metadata": {
        "id": "GdX3cIpkCzHC",
        "colab_type": "code",
        "colab": {
          "base_uri": "https://localhost:8080/",
          "height": 161
        },
        "outputId": "ce49376c-a2b9-4590-9526-44352509ca66"
      },
      "source": [
        "help(atan2)"
      ],
      "execution_count": 22,
      "outputs": [
        {
          "output_type": "stream",
          "text": [
            "Help on built-in function atan2 in module math:\n",
            "\n",
            "atan2(...)\n",
            "    atan2(y, x)\n",
            "    \n",
            "    Return the arc tangent (measured in radians) of y/x.\n",
            "    Unlike atan(y/x), the signs of both x and y are considered.\n",
            "\n"
          ],
          "name": "stdout"
        }
      ]
    },
    {
      "cell_type": "code",
      "metadata": {
        "id": "gT20NzIQC02i",
        "colab_type": "code",
        "colab": {
          "base_uri": "https://localhost:8080/",
          "height": 136
        },
        "outputId": "b838db63-e9ef-4e1a-b496-8a341e0a7f17"
      },
      "source": [
        "print(1,2,3, sep =)"
      ],
      "execution_count": 23,
      "outputs": [
        {
          "output_type": "error",
          "ename": "SyntaxError",
          "evalue": "ignored",
          "traceback": [
            "\u001b[0;36m  File \u001b[0;32m\"<ipython-input-23-be2977cf6c13>\"\u001b[0;36m, line \u001b[0;32m1\u001b[0m\n\u001b[0;31m    print(1,2,3, sep =)\u001b[0m\n\u001b[0m                      ^\u001b[0m\n\u001b[0;31mSyntaxError\u001b[0m\u001b[0;31m:\u001b[0m invalid syntax\n"
          ]
        }
      ]
    },
    {
      "cell_type": "code",
      "metadata": {
        "id": "cXYRvg15C466",
        "colab_type": "code",
        "colab": {
          "base_uri": "https://localhost:8080/",
          "height": 136
        },
        "outputId": "82dfe713-082c-4334-b190-f9925c2af5bc"
      },
      "source": [
        "print(1,2,3, sep=\"--_--\", end \"ENDOFLINE\")"
      ],
      "execution_count": 24,
      "outputs": [
        {
          "output_type": "error",
          "ename": "SyntaxError",
          "evalue": "ignored",
          "traceback": [
            "\u001b[0;36m  File \u001b[0;32m\"<ipython-input-24-581e25d42bca>\"\u001b[0;36m, line \u001b[0;32m1\u001b[0m\n\u001b[0;31m    print(1,2,3, sep=\"--_--\", end \"ENDOFLINE\")\u001b[0m\n\u001b[0m                                            ^\u001b[0m\n\u001b[0;31mSyntaxError\u001b[0m\u001b[0;31m:\u001b[0m invalid syntax\n"
          ]
        }
      ]
    },
    {
      "cell_type": "code",
      "metadata": {
        "id": "vtGTNdvZDBMT",
        "colab_type": "code",
        "colab": {
          "base_uri": "https://localhost:8080/",
          "height": 35
        },
        "outputId": "adf9975f-edd8-462a-fc16-667ffc088713"
      },
      "source": [
        "print(1,2,3, sep=\"--_--\", end=\"ENDOFLINE\")"
      ],
      "execution_count": 25,
      "outputs": [
        {
          "output_type": "stream",
          "text": [
            "1--_--2--_--3ENDOFLINE"
          ],
          "name": "stdout"
        }
      ]
    },
    {
      "cell_type": "code",
      "metadata": {
        "id": "gA-U4M-gDNQi",
        "colab_type": "code",
        "colab": {}
      },
      "source": [
        "m = 1 # this is mass of the particle\n",
        "t = 0.0 # time\n",
        "x = 0.0 # position\n",
        "v = 1.0 # velocity\n",
        "a = 0 # accel"
      ],
      "execution_count": 35,
      "outputs": []
    },
    {
      "cell_type": "code",
      "metadata": {
        "id": "U7fI2HY-DpaC",
        "colab_type": "code",
        "colab": {}
      },
      "source": [
        "dt = 0.1\n",
        "for i in range(10):\n",
        "  t = t + dt\n",
        "  x = x + v*dt\n",
        "  v = v + a*dt"
      ],
      "execution_count": 49,
      "outputs": []
    },
    {
      "cell_type": "markdown",
      "metadata": {
        "id": "PLkFUe0zEPTO",
        "colab_type": "text"
      },
      "source": [
        ""
      ]
    },
    {
      "cell_type": "code",
      "metadata": {
        "id": "jr-6TNb1EDBi",
        "colab_type": "code",
        "colab": {
          "base_uri": "https://localhost:8080/",
          "height": 35
        },
        "outputId": "66f9a314-43f4-467f-af0c-ca61f951da5a"
      },
      "source": [
        "print(t, x, v)"
      ],
      "execution_count": 38,
      "outputs": [
        {
          "output_type": "stream",
          "text": [
            "0.9999999999999999 0.9999999999999999 1.0\n"
          ],
          "name": "stdout"
        }
      ]
    },
    {
      "cell_type": "code",
      "metadata": {
        "id": "IJEef8LjJK6w",
        "colab_type": "code",
        "colab": {}
      },
      "source": [
        "import matplotlib.pyplot as plt"
      ],
      "execution_count": 40,
      "outputs": []
    },
    {
      "cell_type": "code",
      "metadata": {
        "id": "VDbddcJRJkwB",
        "colab_type": "code",
        "colab": {
          "base_uri": "https://localhost:8080/",
          "height": 1000
        },
        "outputId": "2cc12ebe-9df1-42bc-e636-1cde45b1b43a"
      },
      "source": [
        "help(plt.plot)"
      ],
      "execution_count": 41,
      "outputs": [
        {
          "output_type": "stream",
          "text": [
            "Help on function plot in module matplotlib.pyplot:\n",
            "\n",
            "plot(*args, scalex=True, scaley=True, data=None, **kwargs)\n",
            "    Plot y versus x as lines and/or markers.\n",
            "    \n",
            "    Call signatures::\n",
            "    \n",
            "        plot([x], y, [fmt], *, data=None, **kwargs)\n",
            "        plot([x], y, [fmt], [x2], y2, [fmt2], ..., **kwargs)\n",
            "    \n",
            "    The coordinates of the points or line nodes are given by *x*, *y*.\n",
            "    \n",
            "    The optional parameter *fmt* is a convenient way for defining basic\n",
            "    formatting like color, marker and linestyle. It's a shortcut string\n",
            "    notation described in the *Notes* section below.\n",
            "    \n",
            "    >>> plot(x, y)        # plot x and y using default line style and color\n",
            "    >>> plot(x, y, 'bo')  # plot x and y using blue circle markers\n",
            "    >>> plot(y)           # plot y using x as index array 0..N-1\n",
            "    >>> plot(y, 'r+')     # ditto, but with red plusses\n",
            "    \n",
            "    You can use `.Line2D` properties as keyword arguments for more\n",
            "    control on the appearance. Line properties and *fmt* can be mixed.\n",
            "    The following two calls yield identical results:\n",
            "    \n",
            "    >>> plot(x, y, 'go--', linewidth=2, markersize=12)\n",
            "    >>> plot(x, y, color='green', marker='o', linestyle='dashed',\n",
            "    ...      linewidth=2, markersize=12)\n",
            "    \n",
            "    When conflicting with *fmt*, keyword arguments take precedence.\n",
            "    \n",
            "    \n",
            "    **Plotting labelled data**\n",
            "    \n",
            "    There's a convenient way for plotting objects with labelled data (i.e.\n",
            "    data that can be accessed by index ``obj['y']``). Instead of giving\n",
            "    the data in *x* and *y*, you can provide the object in the *data*\n",
            "    parameter and just give the labels for *x* and *y*::\n",
            "    \n",
            "    >>> plot('xlabel', 'ylabel', data=obj)\n",
            "    \n",
            "    All indexable objects are supported. This could e.g. be a `dict`, a\n",
            "    `pandas.DataFame` or a structured numpy array.\n",
            "    \n",
            "    \n",
            "    **Plotting multiple sets of data**\n",
            "    \n",
            "    There are various ways to plot multiple sets of data.\n",
            "    \n",
            "    - The most straight forward way is just to call `plot` multiple times.\n",
            "      Example:\n",
            "    \n",
            "      >>> plot(x1, y1, 'bo')\n",
            "      >>> plot(x2, y2, 'go')\n",
            "    \n",
            "    - Alternatively, if your data is already a 2d array, you can pass it\n",
            "      directly to *x*, *y*. A separate data set will be drawn for every\n",
            "      column.\n",
            "    \n",
            "      Example: an array ``a`` where the first column represents the *x*\n",
            "      values and the other columns are the *y* columns::\n",
            "    \n",
            "      >>> plot(a[0], a[1:])\n",
            "    \n",
            "    - The third way is to specify multiple sets of *[x]*, *y*, *[fmt]*\n",
            "      groups::\n",
            "    \n",
            "      >>> plot(x1, y1, 'g^', x2, y2, 'g-')\n",
            "    \n",
            "      In this case, any additional keyword argument applies to all\n",
            "      datasets. Also this syntax cannot be combined with the *data*\n",
            "      parameter.\n",
            "    \n",
            "    By default, each line is assigned a different style specified by a\n",
            "    'style cycle'. The *fmt* and line property parameters are only\n",
            "    necessary if you want explicit deviations from these defaults.\n",
            "    Alternatively, you can also change the style cycle using\n",
            "    :rc:`axes.prop_cycle`.\n",
            "    \n",
            "    \n",
            "    Parameters\n",
            "    ----------\n",
            "    x, y : array-like or scalar\n",
            "        The horizontal / vertical coordinates of the data points.\n",
            "        *x* values are optional and default to `range(len(y))`.\n",
            "    \n",
            "        Commonly, these parameters are 1D arrays.\n",
            "    \n",
            "        They can also be scalars, or two-dimensional (in that case, the\n",
            "        columns represent separate data sets).\n",
            "    \n",
            "        These arguments cannot be passed as keywords.\n",
            "    \n",
            "    fmt : str, optional\n",
            "        A format string, e.g. 'ro' for red circles. See the *Notes*\n",
            "        section for a full description of the format strings.\n",
            "    \n",
            "        Format strings are just an abbreviation for quickly setting\n",
            "        basic line properties. All of these and more can also be\n",
            "        controlled by keyword arguments.\n",
            "    \n",
            "        This argument cannot be passed as keyword.\n",
            "    \n",
            "    data : indexable object, optional\n",
            "        An object with labelled data. If given, provide the label names to\n",
            "        plot in *x* and *y*.\n",
            "    \n",
            "        .. note::\n",
            "            Technically there's a slight ambiguity in calls where the\n",
            "            second label is a valid *fmt*. `plot('n', 'o', data=obj)`\n",
            "            could be `plt(x, y)` or `plt(y, fmt)`. In such cases,\n",
            "            the former interpretation is chosen, but a warning is issued.\n",
            "            You may suppress the warning by adding an empty format string\n",
            "            `plot('n', 'o', '', data=obj)`.\n",
            "    \n",
            "    Other Parameters\n",
            "    ----------------\n",
            "    scalex, scaley : bool, optional, default: True\n",
            "        These parameters determined if the view limits are adapted to\n",
            "        the data limits. The values are passed on to `autoscale_view`.\n",
            "    \n",
            "    **kwargs : `.Line2D` properties, optional\n",
            "        *kwargs* are used to specify properties like a line label (for\n",
            "        auto legends), linewidth, antialiasing, marker face color.\n",
            "        Example::\n",
            "    \n",
            "        >>> plot([1, 2, 3], [1, 2, 3], 'go-', label='line 1', linewidth=2)\n",
            "        >>> plot([1, 2, 3], [1, 4, 9], 'rs', label='line 2')\n",
            "    \n",
            "        If you make multiple lines with one plot command, the kwargs\n",
            "        apply to all those lines.\n",
            "    \n",
            "        Here is a list of available `.Line2D` properties:\n",
            "    \n",
            "        Properties:\n",
            "        agg_filter: a filter function, which takes a (m, n, 3) float array and a dpi value, and returns a (m, n, 3) array\n",
            "        alpha: float or None\n",
            "        animated: bool\n",
            "        antialiased or aa: bool\n",
            "        clip_box: `.Bbox`\n",
            "        clip_on: bool\n",
            "        clip_path: Patch or (Path, Transform) or None\n",
            "        color or c: color\n",
            "        contains: callable\n",
            "        dash_capstyle: {'butt', 'round', 'projecting'}\n",
            "        dash_joinstyle: {'miter', 'round', 'bevel'}\n",
            "        dashes: sequence of floats (on/off ink in points) or (None, None)\n",
            "        data: (2, N) array or two 1D arrays\n",
            "        drawstyle or ds: {'default', 'steps', 'steps-pre', 'steps-mid', 'steps-post'}, default: 'default'\n",
            "        figure: `.Figure`\n",
            "        fillstyle: {'full', 'left', 'right', 'bottom', 'top', 'none'}\n",
            "        gid: str\n",
            "        in_layout: bool\n",
            "        label: object\n",
            "        linestyle or ls: {'-', '--', '-.', ':', '', (offset, on-off-seq), ...}\n",
            "        linewidth or lw: float\n",
            "        marker: marker style\n",
            "        markeredgecolor or mec: color\n",
            "        markeredgewidth or mew: float\n",
            "        markerfacecolor or mfc: color\n",
            "        markerfacecoloralt or mfcalt: color\n",
            "        markersize or ms: float\n",
            "        markevery: None or int or (int, int) or slice or List[int] or float or (float, float)\n",
            "        path_effects: `.AbstractPathEffect`\n",
            "        picker: float or callable[[Artist, Event], Tuple[bool, dict]]\n",
            "        pickradius: float\n",
            "        rasterized: bool or None\n",
            "        sketch_params: (scale: float, length: float, randomness: float)\n",
            "        snap: bool or None\n",
            "        solid_capstyle: {'butt', 'round', 'projecting'}\n",
            "        solid_joinstyle: {'miter', 'round', 'bevel'}\n",
            "        transform: `matplotlib.transforms.Transform`\n",
            "        url: str\n",
            "        visible: bool\n",
            "        xdata: 1D array\n",
            "        ydata: 1D array\n",
            "        zorder: float\n",
            "    \n",
            "    Returns\n",
            "    -------\n",
            "    lines\n",
            "        A list of `.Line2D` objects representing the plotted data.\n",
            "    \n",
            "    See Also\n",
            "    --------\n",
            "    scatter : XY scatter plot with markers of varying size and/or color (\n",
            "        sometimes also called bubble chart).\n",
            "    \n",
            "    Notes\n",
            "    -----\n",
            "    **Format Strings**\n",
            "    \n",
            "    A format string consists of a part for color, marker and line::\n",
            "    \n",
            "        fmt = '[marker][line][color]'\n",
            "    \n",
            "    Each of them is optional. If not provided, the value from the style\n",
            "    cycle is used. Exception: If ``line`` is given, but no ``marker``,\n",
            "    the data will be a line without markers.\n",
            "    \n",
            "    Other combinations such as ``[color][marker][line]`` are also\n",
            "    supported, but note that their parsing may be ambiguous.\n",
            "    \n",
            "    **Markers**\n",
            "    \n",
            "    =============    ===============================\n",
            "    character        description\n",
            "    =============    ===============================\n",
            "    ``'.'``          point marker\n",
            "    ``','``          pixel marker\n",
            "    ``'o'``          circle marker\n",
            "    ``'v'``          triangle_down marker\n",
            "    ``'^'``          triangle_up marker\n",
            "    ``'<'``          triangle_left marker\n",
            "    ``'>'``          triangle_right marker\n",
            "    ``'1'``          tri_down marker\n",
            "    ``'2'``          tri_up marker\n",
            "    ``'3'``          tri_left marker\n",
            "    ``'4'``          tri_right marker\n",
            "    ``'s'``          square marker\n",
            "    ``'p'``          pentagon marker\n",
            "    ``'*'``          star marker\n",
            "    ``'h'``          hexagon1 marker\n",
            "    ``'H'``          hexagon2 marker\n",
            "    ``'+'``          plus marker\n",
            "    ``'x'``          x marker\n",
            "    ``'D'``          diamond marker\n",
            "    ``'d'``          thin_diamond marker\n",
            "    ``'|'``          vline marker\n",
            "    ``'_'``          hline marker\n",
            "    =============    ===============================\n",
            "    \n",
            "    **Line Styles**\n",
            "    \n",
            "    =============    ===============================\n",
            "    character        description\n",
            "    =============    ===============================\n",
            "    ``'-'``          solid line style\n",
            "    ``'--'``         dashed line style\n",
            "    ``'-.'``         dash-dot line style\n",
            "    ``':'``          dotted line style\n",
            "    =============    ===============================\n",
            "    \n",
            "    Example format strings::\n",
            "    \n",
            "        'b'    # blue markers with default shape\n",
            "        'or'   # red circles\n",
            "        '-g'   # green solid line\n",
            "        '--'   # dashed line with default color\n",
            "        '^k:'  # black triangle_up markers connected by a dotted line\n",
            "    \n",
            "    **Colors**\n",
            "    \n",
            "    The supported color abbreviations are the single letter codes\n",
            "    \n",
            "    =============    ===============================\n",
            "    character        color\n",
            "    =============    ===============================\n",
            "    ``'b'``          blue\n",
            "    ``'g'``          green\n",
            "    ``'r'``          red\n",
            "    ``'c'``          cyan\n",
            "    ``'m'``          magenta\n",
            "    ``'y'``          yellow\n",
            "    ``'k'``          black\n",
            "    ``'w'``          white\n",
            "    =============    ===============================\n",
            "    \n",
            "    and the ``'CN'`` colors that index into the default property cycle.\n",
            "    \n",
            "    If the color is the only part of the format string, you can\n",
            "    additionally use any  `matplotlib.colors` spec, e.g. full names\n",
            "    (``'green'``) or hex strings (``'#008000'``).\n",
            "\n"
          ],
          "name": "stdout"
        }
      ]
    },
    {
      "cell_type": "code",
      "metadata": {
        "id": "Bw_bWkGVJug5",
        "colab_type": "code",
        "colab": {
          "base_uri": "https://localhost:8080/",
          "height": 265
        },
        "outputId": "419b61a6-2bc6-4663-be3e-c3213959e3ee"
      },
      "source": [
        "plt.plot([0,1], [0,1])\n",
        "plt.show()"
      ],
      "execution_count": 42,
      "outputs": [
        {
          "output_type": "display_data",
          "data": {
            "image/png": "[encoded data removed]",
            "text/plain": [
              "<Figure size 432x288 with 1 Axes>"
            ]
          },
          "metadata": {
            "tags": [],
            "needs_background": "light"
          }
        }
      ]
    },
    {
      "cell_type": "code",
      "metadata": {
        "id": "YrSroSUFKGgx",
        "colab_type": "code",
        "colab": {
          "base_uri": "https://localhost:8080/",
          "height": 265
        },
        "outputId": "399f3c42-d62e-4c94-c1ed-9c0dc6e5d32b"
      },
      "source": [
        "plt.plot([0,10,2], 'o-')\n",
        "plt.show()"
      ],
      "execution_count": 43,
      "outputs": [
        {
          "output_type": "display_data",
          "data": {
            "image/png": "[encoded data removed]",
            "text/plain": [
              "<Figure size 432x288 with 1 Axes>"
            ]
          },
          "metadata": {
            "tags": [],
            "needs_background": "light"
          }
        }
      ]
    },
    {
      "cell_type": "code",
      "metadata": {
        "id": "0izGKPBdK9RC",
        "colab_type": "code",
        "colab": {
          "base_uri": "https://localhost:8080/",
          "height": 283
        },
        "outputId": "85f8e2ce-5f04-400b-8cd6-140b36add90b"
      },
      "source": [
        "plt.plot([0.1, 0.3,-10], [0,10,2], 'o-')"
      ],
      "execution_count": 44,
      "outputs": [
        {
          "output_type": "execute_result",
          "data": {
            "text/plain": [
              "[<matplotlib.lines.Line2D at 0x7ff6be4f15f8>]"
            ]
          },
          "metadata": {
            "tags": []
          },
          "execution_count": 44
        },
        {
          "output_type": "display_data",
          "data": {
            "image/png": "[encoded data removed]",
            "text/plain": [
              "<Figure size 432x288 with 1 Axes>"
            ]
          },
          "metadata": {
            "tags": [],
            "needs_background": "light"
          }
        }
      ]
    },
    {
      "cell_type": "code",
      "metadata": {
        "id": "Mq-8QV4JLH6R",
        "colab_type": "code",
        "colab": {
          "base_uri": "https://localhost:8080/",
          "height": 172
        },
        "outputId": "db9161e9-ac7f-4f04-8be3-73cde232d8f8"
      },
      "source": [
        "plt.plot(tlist, xlist, 'o-')\n"
      ],
      "execution_count": 45,
      "outputs": [
        {
          "output_type": "error",
          "ename": "NameError",
          "evalue": "ignored",
          "traceback": [
            "\u001b[0;31m---------------------------------------------------------------------------\u001b[0m",
            "\u001b[0;31mNameError\u001b[0m                                 Traceback (most recent call last)",
            "\u001b[0;32m<ipython-input-45-880f86a6cc2d>\u001b[0m in \u001b[0;36m<module>\u001b[0;34m()\u001b[0m\n\u001b[0;32m----> 1\u001b[0;31m \u001b[0mplt\u001b[0m\u001b[0;34m.\u001b[0m\u001b[0mplot\u001b[0m\u001b[0;34m(\u001b[0m\u001b[0mtlist\u001b[0m\u001b[0;34m,\u001b[0m \u001b[0mxlist\u001b[0m\u001b[0;34m,\u001b[0m \u001b[0;34m'o-'\u001b[0m\u001b[0;34m)\u001b[0m\u001b[0;34m\u001b[0m\u001b[0;34m\u001b[0m\u001b[0m\n\u001b[0m",
            "\u001b[0;31mNameError\u001b[0m: name 'tlist' is not defined"
          ]
        }
      ]
    },
    {
      "cell_type": "code",
      "metadata": {
        "id": "a1VoQ_pILM1J",
        "colab_type": "code",
        "colab": {}
      },
      "source": [
        "dt = 0.1\n",
        "tlist = [t,]\n",
        "xlist = [x,]\n",
        "vlist = [v,]\n",
        "for i in range(100):\n",
        "\n",
        "  t = t +dt\n",
        "  x = x + v*dt\n",
        "  v = v + a*dt\n",
        "  \n",
        "  if x<= 0: break\n",
        "\n",
        "  tlist.append(t)\n",
        "  xlist.append(x)\n",
        "  vlist.append(v)\n"
      ],
      "execution_count": 52,
      "outputs": []
    },
    {
      "cell_type": "code",
      "metadata": {
        "id": "VdGRKIMDL_SK",
        "colab_type": "code",
        "colab": {
          "base_uri": "https://localhost:8080/",
          "height": 283
        },
        "outputId": "937eab20-98e6-4c89-cbc5-b3f1c96171c3"
      },
      "source": [
        "plt.plot(tlist, vlist, 'o-')"
      ],
      "execution_count": 53,
      "outputs": [
        {
          "output_type": "execute_result",
          "data": {
            "text/plain": [
              "[<matplotlib.lines.Line2D at 0x7ff6be430898>]"
            ]
          },
          "metadata": {
            "tags": []
          },
          "execution_count": 53
        },
        {
          "output_type": "display_data",
          "data": {
            "image/png": "[encoded data removed]",
            "text/plain": [
              "<Figure size 432x288 with 1 Axes>"
            ]
          },
          "metadata": {
            "tags": [],
            "needs_background": "light"
          }
        }
      ]
    },
    {
      "cell_type": "code",
      "metadata": {
        "id": "or6PwkEDMTy5",
        "colab_type": "code",
        "colab": {}
      },
      "source": [
        "m = 1 # this is mass of the particle\n",
        "t = 0.0 # time\n",
        "x = 0.0 # position\n",
        "v = 1.0 # velocity\n",
        "a = -9.8 # accel"
      ],
      "execution_count": 54,
      "outputs": []
    },
    {
      "cell_type": "code",
      "metadata": {
        "id": "MywvfdJEMi9h",
        "colab_type": "code",
        "colab": {}
      },
      "source": [
        "dt = 0.1\n",
        "tlist = [t,]\n",
        "xlist = [x,]\n",
        "vlist = [v,]\n",
        "for i in range(100):\n",
        "\n",
        "  t = t +dt\n",
        "  x = x + v*dt\n",
        "  v = v + a*dt\n",
        "  \n",
        "  if x<= 0: break\n",
        "\n",
        "  tlist.append(t)\n",
        "  xlist.append(x)\n",
        "  vlist.append(v)\n",
        "  "
      ],
      "execution_count": 55,
      "outputs": []
    },
    {
      "cell_type": "code",
      "metadata": {
        "id": "hz38jP4fMlYY",
        "colab_type": "code",
        "colab": {
          "base_uri": "https://localhost:8080/",
          "height": 283
        },
        "outputId": "008b8a41-c534-463b-8a93-45176036f7e5"
      },
      "source": [
        "plt.plot(vlist, xlist, 'o-')"
      ],
      "execution_count": 58,
      "outputs": [
        {
          "output_type": "execute_result",
          "data": {
            "text/plain": [
              "[<matplotlib.lines.Line2D at 0x7ff6be405390>]"
            ]
          },
          "metadata": {
            "tags": []
          },
          "execution_count": 58
        },
        {
          "output_type": "display_data",
          "data": {
            "image/png": "[encoded data removed]",
            "text/plain": [
              "<Figure size 432x288 with 1 Axes>"
            ]
          },
          "metadata": {
            "tags": [],
            "needs_background": "light"
          }
        }
      ]
    },
    {
      "cell_type": "code",
      "metadata": {
        "id": "uw-jUcY2Mmko",
        "colab_type": "code",
        "colab": {}
      },
      "source": [
        "m = 1 # this is mass of the particle\n",
        "t = 0.0 # time\n",
        "x0 = 1.0 # position\n",
        "x = x0 + 0.1 #default length of the spring\n",
        "k = 0.1 #spring constant\n",
        "v = 0.0 # velocity\n",
        "#a = -9.8 # accel"
      ],
      "execution_count": 59,
      "outputs": []
    },
    {
      "cell_type": "code",
      "metadata": {
        "id": "mHmRxVI9NK6_",
        "colab_type": "code",
        "colab": {}
      },
      "source": [
        "dt = 0.1\n",
        "tlist = [t,]\n",
        "xlist = [x,]\n",
        "vlist = [v,]\n",
        "for i in range(1000):\n",
        "\n",
        "  t = t +dt\n",
        "  x = x + v*dt\n",
        "  a = -k *(x-x0)/m # F=ma\n",
        "  v = v + a*dt\n",
        "  \n",
        "  #if x<= 0: break\n",
        "\n",
        "  tlist.append(t)\n",
        "  xlist.append(x)\n",
        "  vlist.append(v)"
      ],
      "execution_count": 62,
      "outputs": []
    },
    {
      "cell_type": "code",
      "metadata": {
        "id": "3Pe93z_DNUZI",
        "colab_type": "code",
        "colab": {
          "base_uri": "https://localhost:8080/",
          "height": 283
        },
        "outputId": "0c116f65-af17-4f57-9193-eed848047c8e"
      },
      "source": [
        "plt.plot(tlist, xlist, 'o-')"
      ],
      "execution_count": 64,
      "outputs": [
        {
          "output_type": "execute_result",
          "data": {
            "text/plain": [
              "[<matplotlib.lines.Line2D at 0x7ff6be2cf860>]"
            ]
          },
          "metadata": {
            "tags": []
          },
          "execution_count": 64
        },
        {
          "output_type": "display_data",
          "data": {
            "image/png": "[encoded data removed]",
            "text/plain": [
              "<Figure size 432x288 with 1 Axes>"
            ]
          },
          "metadata": {
            "tags": [],
            "needs_background": "light"
          }
        }
      ]
    },
    {
      "cell_type": "code",
      "metadata": {
        "id": "gcHfkvC_Na_g",
        "colab_type": "code",
        "colab": {
          "base_uri": "https://localhost:8080/",
          "height": 283
        },
        "outputId": "da8b9c6f-9c26-4ed2-df34-5d71a07c766f"
      },
      "source": [
        "plt.plot(tlist, vlist, 'o-')"
      ],
      "execution_count": 65,
      "outputs": [
        {
          "output_type": "execute_result",
          "data": {
            "text/plain": [
              "[<matplotlib.lines.Line2D at 0x7ff6be2369b0>]"
            ]
          },
          "metadata": {
            "tags": []
          },
          "execution_count": 65
        },
        {
          "output_type": "display_data",
          "data": {
            "image/png": "[encoded data removed]",
            "text/plain": [
              "<Figure size 432x288 with 1 Axes>"
            ]
          },
          "metadata": {
            "tags": [],
            "needs_background": "light"
          }
        }
      ]
    },
    {
      "cell_type": "code",
      "metadata": {
        "id": "HfO0k5YDNx3e",
        "colab_type": "code",
        "colab": {
          "base_uri": "https://localhost:8080/",
          "height": 283
        },
        "outputId": "22cef2b0-5dee-47a3-d536-0659870eb0e7"
      },
      "source": [
        "plt.plot(xlist, vlist, 'o-')"
      ],
      "execution_count": 67,
      "outputs": [
        {
          "output_type": "execute_result",
          "data": {
            "text/plain": [
              "[<matplotlib.lines.Line2D at 0x7ff6be1868d0>]"
            ]
          },
          "metadata": {
            "tags": []
          },
          "execution_count": 67
        },
        {
          "output_type": "display_data",
          "data": {
            "image/png": "[encoded data removed]",
            "text/plain": [
              "<Figure size 432x288 with 1 Axes>"
            ]
          },
          "metadata": {
            "tags": [],
            "needs_background": "light"
          }
        }
      ]
    },
    {
      "cell_type": "code",
      "metadata": {
        "id": "wt91UE01N1t5",
        "colab_type": "code",
        "colab": {
          "base_uri": "https://localhost:8080/",
          "height": 283
        },
        "outputId": "b4734dc3-d4e3-4073-989b-f8aefac30ff0"
      },
      "source": [
        "plt.plot(tlist, vlist, 'o-')"
      ],
      "execution_count": 68,
      "outputs": [
        {
          "output_type": "execute_result",
          "data": {
            "text/plain": [
              "[<matplotlib.lines.Line2D at 0x7ff6be0fc550>]"
            ]
          },
          "metadata": {
            "tags": []
          },
          "execution_count": 68
        },
        {
          "output_type": "display_data",
          "data": {
            "image/png": "[encoded data removed]",
            "text/plain": [
              "<Figure size 432x288 with 1 Axes>"
            ]
          },
          "metadata": {
            "tags": [],
            "needs_background": "light"
          }
        }
      ]
    },
    {
      "cell_type": "code",
      "metadata": {
        "id": "EEdf1hNXOUpy",
        "colab_type": "code",
        "colab": {}
      },
      "source": [
        "#공기저항 고려할 때\n",
        "dt = 0.1\n",
        "tlist = [t,]\n",
        "xlist = [x,]\n",
        "vlist = [v,]\n",
        "for i in range(10000):\n",
        "\n",
        "  t = t +dt\n",
        "  x = x + v*dt\n",
        "  a = -k *(x-x0)/m - 0.01*v # F=ma\n",
        "  v = v + a*dt\n",
        "  \n",
        "  #if x<= 0: break\n",
        "\n",
        "  tlist.append(t)\n",
        "  xlist.append(x)\n",
        "  vlist.append(v)"
      ],
      "execution_count": 84,
      "outputs": []
    },
    {
      "cell_type": "code",
      "metadata": {
        "id": "ilenomjDPKcX",
        "colab_type": "code",
        "colab": {
          "base_uri": "https://localhost:8080/",
          "height": 294
        },
        "outputId": "9dbc8a7e-5c5a-4869-aef9-398c21f36697"
      },
      "source": [
        "plt.plot(tlist, xlist, '-')"
      ],
      "execution_count": 85,
      "outputs": [
        {
          "output_type": "execute_result",
          "data": {
            "text/plain": [
              "[<matplotlib.lines.Line2D at 0x7ff6bc36a160>]"
            ]
          },
          "metadata": {
            "tags": []
          },
          "execution_count": 85
        },
        {
          "output_type": "display_data",
          "data": {
            "image/png": "[encoded data removed]",
            "text/plain": [
              "<Figure size 432x288 with 1 Axes>"
            ]
          },
          "metadata": {
            "tags": [],
            "needs_background": "light"
          }
        }
      ]
    },
    {
      "cell_type": "code",
      "metadata": {
        "id": "-q67RHOVPQ-5",
        "colab_type": "code",
        "colab": {
          "base_uri": "https://localhost:8080/",
          "height": 307
        },
        "outputId": "79480a87-fcc2-45d0-87d4-a39acb4650d3"
      },
      "source": [
        "plt.plot(xlist, vlist, '-')"
      ],
      "execution_count": 86,
      "outputs": [
        {
          "output_type": "execute_result",
          "data": {
            "text/plain": [
              "[<matplotlib.lines.Line2D at 0x7ff6bc33de80>]"
            ]
          },
          "metadata": {
            "tags": []
          },
          "execution_count": 86
        },
        {
          "output_type": "display_data",
          "data": {
            "image/png": "[encoded data removed]",
            "text/plain": [
              "<Figure size 432x288 with 1 Axes>"
            ]
          },
          "metadata": {
            "tags": [],
            "needs_background": "light"
          }
        }
      ]
    },
    {
      "cell_type": "code",
      "metadata": {
        "id": "xA9kLjboPSkg",
        "colab_type": "code",
        "colab": {}
      },
      "source": [
        ""
      ],
      "execution_count": null,
      "outputs": []
    }
  ]
}